{
 "cells": [
  {
   "cell_type": "markdown",
   "id": "a36ce17e",
   "metadata": {},
   "source": [
    "---\n",
    "author:\n",
    "  - name: Pietro Rota\n",
    "    affiliation:\n",
    "      - name: Bayes business school - City St. George\n",
    "        city: London\n",
    "        state: UK\n",
    "        url: https://www.bayes.citystgeorges.ac.uk/\n",
    "format:\n",
    "  html:\n",
    "    code-tools: true\n",
    "    code-fold: true\n",
    "    code-summary: Show code\n",
    "    html-table-processing: none\n",
    "    df-print: kable\n",
    "    code-block-border-left: royalblue\n",
    "    code-block-bg: true\n",
    "    toc: true\n",
    "title: Implied Probability Density Functions\n",
    "jupyter: python3\n",
    "---"
   ]
  },
  {
   "cell_type": "markdown",
   "id": "6996213f",
   "metadata": {},
   "source": [
    "Le distribuzioni di probabilità della volatilità implicita (IVPD) sono un modo per capire cosa si aspetta il mercato riguardo al futuro prezzo di un asset (come un'azione o un indice) basandosi sui prezzi delle opzioni disponibili. Invece di darti un singolo valore per la volatilità futura, queste distribuzioni ti mostrano la probabilità che l'asset raggiunga diversi prezzi in futuro.\n",
    "Immagina di lanciare una moneta. Sai che la probabilità di testa o croce è 50/50. Nel mercato, con le opzioni, possiamo \"indovinare\" le probabilità che il prezzo di un'azione salga, scenda o rimanga stabile, non con la stessa certezza di una moneta, ma con una stima basata su quanto gli investitori sono disposti a pagare per le opzioni.\n",
    "Come funzionano in breve:\n",
    "Prezzi delle Opzioni: Ogni opzione ha un prezzo di mercato. Questo prezzo incorpora le aspettative degli operatori sulla volatilità futura dell'asset.\n",
    "Volatilità Implicita: Dal prezzo di ogni opzione, possiamo calcolare la sua \"volatilità implicita\". È la volatilità che, se inserita in un modello di pricing delle opzioni (come Black-Scholes), riprodurrebbe il prezzo di mercato osservato.\n",
    "La \"Curva del Sorriso\" (Volatility Smile/Skew): Se calcoli la volatilità implicita per opzioni con diverse strike price (prezzi di esercizio) ma stessa scadenza, noterai che non è la stessa per tutte. Spesso assume una forma a \"sorriso\" o \"smorfia\", indicando che il mercato si aspetta probabilità diverse per movimenti di prezzo estremi (ad esempio, un crollo del mercato è percepito come più probabile di un rialzo equivalente).\n",
    "Costruzione della Distribuzione: Utilizzando queste volatilità implicite per l'intera catena di opzioni, si possono costruire delle curve che rappresentano la distribuzione di probabilità neutrale al rischio del prezzo futuro dell'asset. In pratica, queste curve ti dicono quali prezzi futuri sono considerati più probabili dal mercato e quali meno.\n",
    "Cosa ci dicono?\n",
    "Forma della Distribuzione: Una distribuzione simmetrica suggerisce che il mercato si aspetta movimenti di prezzo equamente probabili in entrambe le direzioni. Una distribuzione asimmetrica (skewed) indica una maggiore probabilità di movimenti in una direzione (es. più probabile un calo che un rialzo).\n",
    "\"Code Pesanti\" (Fat Tails): Se le code della distribuzione sono più \"pesanti\" del normale, significa che il mercato attribuisce una probabilità maggiore a eventi estremi (grandi rialzi o grandi crolli) rispetto a quanto previsto da un modello standard.\n",
    "Cambiamenti nel Tempo: Monitorando come queste distribuzioni cambiano prima e dopo eventi importanti (come un annuncio di utili o il lancio di un nuovo prodotto), possiamo capire come le aspettative del mercato si modificano in risposta a nuove informazioni. Ad esempio, un evento incerto potrebbe allargare la distribuzione, indicando maggiore incertezza, o spostare il suo picco, indicando un cambiamento nella direzione attesa del prezzo.\n",
    "In sintesi, le IVPD sono uno strumento potente per visualizzare e analizzare le aspettative aggregate del mercato riguardo ai futuri movimenti di prezzo e al rischio, derivandole direttamente dai prezzi delle opzioni.\n"
   ]
  },
  {
   "cell_type": "code",
   "execution_count": 67,
   "id": "330f96a9",
   "metadata": {},
   "outputs": [],
   "source": [
    "import yfinance as yf\n",
    "import numpy as np\n",
    "import pandas as pd\n",
    "from scipy.stats import norm\n",
    "from scipy.optimize import brentq\n",
    "import plotly.graph_objects as go\n",
    "from plotly.subplots import make_subplots\n",
    "from scipy.stats import norm\n",
    "from datetime import datetime\n",
    "import matplotlib.pyplot as plt\n"
   ]
  },
  {
   "cell_type": "markdown",
   "id": "aebb6d33",
   "metadata": {},
   "source": [
    "The core concept is based on Breeden and Litzenberger (1978), who showed that the second derivative of a European call price with respect to strike gives the risk-neutral PDF of the underlying asset price at maturity:\n",
    "$$\n",
    "f(K)=e^{rT} ⋅ \\frac{∂^2C(K)}{∂K^2}​\n",
    "$$\n"
   ]
  },
  {
   "cell_type": "code",
   "execution_count": 68,
   "id": "64334025",
   "metadata": {},
   "outputs": [],
   "source": [
    "def black_scholes_price(S, K, T, r, sigma, option_type=\"call\"):\n",
    "    \"\"\"Black-Scholes price for call/put\"\"\"\n",
    "    d1 = (np.log(S / K) + (r + 0.5 * sigma**2) * T) / (sigma * np.sqrt(T))\n",
    "    d2 = d1 - sigma * np.sqrt(T)\n",
    "\n",
    "    if option_type == \"call\":\n",
    "        return S * norm.cdf(d1) - K * np.exp(-r*T) * norm.cdf(d2)\n",
    "    else:  # put\n",
    "        return K * np.exp(-r*T) * norm.cdf(-d2) - S * norm.cdf(-d1)\n",
    "\n",
    "\n",
    "def implied_volatility(market_price, S, K, T, r, option_type=\"call\"):\n",
    "    \"\"\"Solve for IV using Brent root finder\"\"\"\n",
    "    try:\n",
    "        f = lambda sigma: black_scholes_price(S, K, T, r, sigma, option_type) - market_price\n",
    "        return brentq(f, 1e-6, 5.0, maxiter=500)\n",
    "    except:\n",
    "        return np.nan\n",
    "\n",
    "\n",
    "def implied_pdf(S, K, T, r, sigma):\n",
    "    \"\"\"Breeden-Litzenberger: risk-neutral density via BS second derivative wrt strike\"\"\"\n",
    "    d1 = (np.log(S / K) + (r + 0.5 * sigma**2) * T) / (sigma * np.sqrt(T))\n",
    "    d2 = d1 - sigma * np.sqrt(T)\n",
    "    pdf = (np.exp(-r*T) * norm.pdf(d2)) / (K * sigma * np.sqrt(T))\n",
    "    return pdf\n"
   ]
  },
  {
   "cell_type": "code",
   "execution_count": 69,
   "id": "acaf1626",
   "metadata": {},
   "outputs": [],
   "source": [
    "def calculate_probability_distribution(strike, spot, iv, days_to_exp, risk_free_rate = r):\n",
    "    \"\"\"\n",
    "    Calculate the implied probability distribution from Black-Scholes\n",
    "    Returns price range and probability density\n",
    "    \"\"\"\n",
    "    T = days_to_exp / 365.0\n",
    "    \n",
    "    if T <= 0 or iv <= 0:\n",
    "        return None, None\n",
    "    \n",
    "    # Generate price range (±4 standard deviations)\n",
    "    std_dev = spot * iv * np.sqrt(T)\n",
    "    price_range = np.linspace(max(spot - 4*std_dev, 0.01), spot + 4*std_dev, 200)\n",
    "    \n",
    "    # Calculate log-normal distribution parameters\n",
    "    mu = np.log(spot) + (risk_free_rate - 0.5 * iv**2) * T\n",
    "    sigma = iv * np.sqrt(T)\n",
    "    \n",
    "    # Probability density function\n",
    "    pdf = (1 / (price_range * sigma * np.sqrt(2 * np.pi))) * \\\n",
    "          np.exp(-0.5 * ((np.log(price_range) - mu) / sigma)**2)\n",
    "    \n",
    "    return price_range, pdf\n",
    "\n",
    "def get_option_chain_data(ticker_symbol):\n",
    "    \"\"\"\n",
    "    Fetch complete option chain data for all expirations\n",
    "    \"\"\"\n",
    "    ticker = yf.Ticker(ticker_symbol)\n",
    "    current_price = ticker.history(period='1d')['Close'].iloc[-1]\n",
    "    \n",
    "    expirations = ticker.options\n",
    "    \n",
    "    all_options = []\n",
    "    \n",
    "    for exp_date in expirations:\n",
    "        opt_chain = ticker.option_chain(exp_date)\n",
    "        \n",
    "        # Process calls\n",
    "        calls = opt_chain.calls.copy()\n",
    "        calls['type'] = 'call'\n",
    "        calls['expiration'] = exp_date\n",
    "        \n",
    "        # Process puts\n",
    "        puts = opt_chain.puts.copy()\n",
    "        puts['type'] = 'put'\n",
    "        puts['expiration'] = exp_date\n",
    "        \n",
    "        all_options.append(pd.concat([calls, puts]))\n",
    "    \n",
    "    options_df = pd.concat(all_options, ignore_index=True)\n",
    "    \n",
    "    # Calculate days to expiration\n",
    "    options_df['expiration'] = pd.to_datetime(options_df['expiration'])\n",
    "    options_df['days_to_exp'] = (options_df['expiration'] - datetime.now()).dt.days\n",
    "    \n",
    "    # Filter out options with missing IV\n",
    "    options_df = options_df[options_df['impliedVolatility'].notna()]\n",
    "    options_df = options_df[options_df['impliedVolatility'] > 0]\n",
    "    \n",
    "    return options_df, current_price\n",
    "\n",
    "def create_3d_ipdf_surface(options_df, current_price):\n",
    "    \"\"\"\n",
    "    Create 3D surface plot showing how IPDF changes across strikes and expirations\n",
    "    \"\"\"\n",
    "    # Group by expiration\n",
    "    expirations = sorted(options_df['expiration'].unique())\n",
    "    \n",
    "    # Prepare data for surface plot\n",
    "    price_ranges = []\n",
    "    pdfs_matrix = []\n",
    "    exp_labels = []\n",
    "    \n",
    "    for exp in expirations[:8]:  # Limit to first 8 expirations for clarity\n",
    "        exp_data = options_df[options_df['expiration'] == exp]\n",
    "        days_to_exp = exp_data['days_to_exp'].iloc[0]\n",
    "        \n",
    "        # Use ATM option IV as reference\n",
    "        atm_option = exp_data.iloc[(exp_data['strike'] - current_price).abs().argsort()[:1]]\n",
    "        if len(atm_option) > 0:\n",
    "            iv = atm_option['impliedVolatility'].iloc[0]\n",
    "            \n",
    "            price_range, pdf = calculate_probability_distribution(\n",
    "                current_price, current_price, iv, days_to_exp\n",
    "            )\n",
    "            \n",
    "            if price_range is not None:\n",
    "                price_ranges.append(price_range)\n",
    "                pdfs_matrix.append(pdf)\n",
    "                exp_labels.append(f\"{exp.strftime('%Y-%m-%d')} ({days_to_exp}d)\")\n",
    "    \n",
    "    # Create meshgrid for 3D plot\n",
    "    if len(price_ranges) > 0:\n",
    "        fig = go.Figure(data=[go.Surface(\n",
    "            x=price_ranges[0],\n",
    "            y=list(range(len(exp_labels))),\n",
    "            z=pdfs_matrix,\n",
    "            colorscale='Viridis',\n",
    "            opacity=0.8,\n",
    "            name='Probability Density'\n",
    "        )])\n",
    "        \n",
    "        fig.update_layout(\n",
    "            title=f'3D Implied Probability Distribution - Full Option Chain looking at {TICKER}',\n",
    "            scene=dict(\n",
    "                xaxis_title='Stock Price',\n",
    "                yaxis=dict(\n",
    "                    title='Expiration',\n",
    "                    ticktext=exp_labels,\n",
    "                    tickvals=list(range(len(exp_labels)))\n",
    "                ),\n",
    "                zaxis_title='Probability Density',\n",
    "                camera=dict(eye=dict(x=1.5, y=1.5, z=1.3))\n",
    "            ),\n",
    "            height=700\n",
    "        )\n",
    "        \n",
    "        return fig\n",
    "    return None\n",
    "\n",
    "def create_ipdf_overlay(options_df, current_price):\n",
    "    \"\"\"\n",
    "    Create 2D plot with multiple IPDFs overlaid with alpha transparency\n",
    "    \"\"\"\n",
    "    fig, ax = plt.subplots(figsize=(12, 7))\n",
    "    \n",
    "    expirations = sorted(options_df['expiration'].unique())\n",
    "    \n",
    "    colors = plt.cm.tab10(np.linspace(0, 1, 10))\n",
    "    \n",
    "    for idx, exp in enumerate(expirations[:8]):\n",
    "        exp_data = options_df[options_df['expiration'] == exp]\n",
    "        days_to_exp = exp_data['days_to_exp'].iloc[0]\n",
    "        \n",
    "        # Use ATM option IV\n",
    "        atm_option = exp_data.iloc[(exp_data['strike'] - current_price).abs().argsort()[:1]]\n",
    "        if len(atm_option) > 0:\n",
    "            iv = atm_option['impliedVolatility'].iloc[0]\n",
    "            \n",
    "            price_range, pdf = calculate_probability_distribution(\n",
    "                current_price, current_price, iv, days_to_exp\n",
    "            )\n",
    "            \n",
    "            if price_range is not None:\n",
    "                ax.plot(price_range, pdf, \n",
    "                       label=f\"{exp.strftime('%Y-%m-%d')} ({days_to_exp}d)\",\n",
    "                       color=colors[idx % len(colors)], linewidth=2)\n",
    "                ax.fill_between(price_range, pdf, alpha=0.3, color=colors[idx % len(colors)])\n",
    "    \n",
    "    # Add vertical line for current price\n",
    "    ax.axvline(x=current_price, linestyle='--', color='red', linewidth=2,\n",
    "               label=f'Current: ${current_price:.2f}')\n",
    "    \n",
    "    ax.set_title(f'Implied Probability Distribution Functions - Overlay View looking at {TICKER}', fontsize=14, fontweight='bold')\n",
    "    ax.set_xlabel('Stock Price', fontsize=12)\n",
    "    ax.set_ylabel('Probability Density', fontsize=12)\n",
    "    ax.legend(loc='upper right', fontsize=9)\n",
    "    ax.grid(True, alpha=0.3)\n",
    "    plt.tight_layout()\n",
    "    \n",
    "    return fig\n",
    "\n",
    "def create_mode_and_quartiles(options_df, current_price):\n",
    "    \"\"\"\n",
    "    Create chart showing most probable value (mode) and confidence intervals\n",
    "    \"\"\"\n",
    "    expirations = sorted(options_df['expiration'].unique())\n",
    "    \n",
    "    exp_labels = []\n",
    "    modes = []\n",
    "    q25 = []\n",
    "    q75 = []\n",
    "    q5 = []\n",
    "    q95 = []\n",
    "    days_list = []\n",
    "    \n",
    "    for exp in expirations[:12]:\n",
    "        exp_data = options_df[options_df['expiration'] == exp]\n",
    "        days_to_exp = exp_data['days_to_exp'].iloc[0]\n",
    "        \n",
    "        atm_option = exp_data.iloc[(exp_data['strike'] - current_price).abs().argsort()[:1]]\n",
    "        if len(atm_option) > 0:\n",
    "            iv = atm_option['impliedVolatility'].iloc[0]\n",
    "            T = days_to_exp / 365.0\n",
    "            \n",
    "            # Mode of lognormal distribution\n",
    "            mode = current_price * np.exp(-iv**2 * T)\n",
    "            \n",
    "            # Calculate quantiles using lognormal distribution\n",
    "            mu = np.log(current_price) + (0.05 - 0.5 * iv**2) * T\n",
    "            sigma = iv * np.sqrt(T)\n",
    "            \n",
    "            q5_val = np.exp(mu + sigma * norm.ppf(0.05))\n",
    "            q25_val = np.exp(mu + sigma * norm.ppf(0.25))\n",
    "            q75_val = np.exp(mu + sigma * norm.ppf(0.75))\n",
    "            q95_val = np.exp(mu + sigma * norm.ppf(0.95))\n",
    "            \n",
    "            exp_labels.append(f\"{exp.strftime('%m/%d')}\")\n",
    "            modes.append(mode)\n",
    "            q25.append(q25_val)\n",
    "            q75.append(q75_val)\n",
    "            q5.append(q5_val)\n",
    "            q95.append(q95_val)\n",
    "            days_list.append(days_to_exp)\n",
    "    \n",
    "    fig, ax = plt.subplots(figsize=(12, 7))\n",
    "    \n",
    "    x_pos = np.arange(len(exp_labels))\n",
    "    \n",
    "    # 90% confidence interval\n",
    "    ax.fill_between(x_pos, q5, q95, alpha=0.3, color='lightblue', label='90% CI (5th-95th)')\n",
    "    \n",
    "    # 50% confidence interval (IQR)\n",
    "    ax.fill_between(x_pos, q25, q75, alpha=0.5, color='blue', label='50% CI (25th-75th)')\n",
    "    \n",
    "    # Mode (most probable value)\n",
    "    ax.plot(x_pos, modes, 'o-', color='darkgreen', linewidth=3, \n",
    "            markersize=8, label='Most Probable (Mode)')\n",
    "    \n",
    "    # Current price line\n",
    "    ax.axhline(y=current_price, linestyle='--', color='red', linewidth=2,\n",
    "               label=f'Current: ${current_price:.2f}')\n",
    "    \n",
    "    ax.set_title(f'Most Probable Value and Confidence Intervals by Expiration looking at {TICKER}', \n",
    "                 fontsize=14, fontweight='bold')\n",
    "    ax.set_xlabel('Expiration Date', fontsize=12)\n",
    "    ax.set_ylabel('Stock Price', fontsize=12)\n",
    "    ax.set_xticks(x_pos)\n",
    "    ax.set_xticklabels(exp_labels, rotation=45, ha='right')\n",
    "    ax.legend(loc='best', fontsize=10)\n",
    "    ax.grid(True, alpha=0.3, axis='y')\n",
    "    plt.tight_layout()\n",
    "    \n",
    "    return fig\n"
   ]
  },
  {
   "cell_type": "code",
   "execution_count": 70,
   "id": "9320be3e",
   "metadata": {},
   "outputs": [
    {
     "name": "stdout",
     "output_type": "stream",
     "text": [
      "Fetching option chain data for SPY...\n",
      "Current price: $663.68\n",
      "Total options loaded: 8161\n",
      "Expirations available: 31\n"
     ]
    }
   ],
   "source": [
    "# Set ticker symbol\n",
    "TICKER = \"SPY\"  # Change this to any ticker\n",
    "interest = yf.Ticker(\"^IRX\")\n",
    "r = interest.history(period=\"1d\")[\"Close\"].iloc[-1]/100  # assume risk-free rate ~5% (you could pull ^IRX)\n",
    "\n",
    "print(f\"Fetching option chain data for {TICKER}...\")\n",
    "options_df, current_price = get_option_chain_data(TICKER)\n",
    "\n",
    "print(f\"Current price: ${current_price:.2f}\")\n",
    "print(f\"Total options loaded: {len(options_df)}\")\n",
    "print(f\"Expirations available: {len(options_df['expiration'].unique())}\")\n"
   ]
  },
  {
   "cell_type": "code",
   "execution_count": 71,
   "id": "aa16a942",
   "metadata": {},
   "outputs": [
    {
     "name": "stdout",
     "output_type": "stream",
     "text": [
      "\n",
      "Generating 3D IPDF surface plot...\n"
     ]
    },
    {
     "data": {
      "application/vnd.plotly.v1+json": {
       "config": {
        "plotlyServerURL": "https://plot.ly"
       },
       "data": [
        {
         "colorscale": [
          [
           0,
           "#440154"
          ],
          [
           0.1111111111111111,
           "#482878"
          ],
          [
           0.2222222222222222,
           "#3e4989"
          ],
          [
           0.3333333333333333,
           "#31688e"
          ],
          [
           0.4444444444444444,
           "#26828e"
          ],
          [
           0.5555555555555556,
           "#1f9e89"
          ],
          [
           0.6666666666666666,
           "#35b779"
          ],
          [
           0.7777777777777778,
           "#6ece58"
          ],
          [
           0.8888888888888888,
           "#b5de2b"
          ],
          [
           1,
           "#fde725"
          ]
         ],
         "name": "Probability Density",
         "opacity": 0.8,
         "type": "surface",
         "x": {
          "bdata": "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",
          "dtype": "f8"
         },
         "y": [
          0,
          1,
          2,
          3,
          4,
          5
         ],
         "z": [
          [
           0.00003509849372145232,
           0.00004140212226131731,
           0.00004875451475291625,
           0.000057314644472016024,
           0.00006726285793850219,
           0.00007880329869913759,
           0.000092166535997009,
           0.00010761240512564784,
           0.00012543306476477857,
           0.00014595627476222982,
           0.00016954889564230346,
           0.00019662060855203623,
           0.00022762785139791551,
           0.00026307796354192205,
           0.00030353352761942903,
           0.0003496168927991857,
           0.0004020148591307523,
           0.0004614834975163553,
           0.0005288530743448983,
           0.000605033043915943,
           0.0006910170655556589,
           0.0007878879957863786,
           0.0008968227991401983,
           0.0010190973142781927,
           0.0011560908050700523,
           0.0013092902193209846,
           0.0014802940709808454,
           0.0016708158551218292,
           0.0018826868988029671,
           0.0021178585453339276,
           0.002378403564581383,
           0.0026665166779563532,
           0.002984514083767218,
           0.003334831866965124,
           0.0037200231769381506,
           0.004142754058416971,
           0.004605797823448384,
           0.005112027857489579,
           0.005664408759535579,
           0.006265985725430035,
           0.006919872094839175,
           0.00762923499619324,
           0.00839727903981956,
           0.00922722802812175,
           0.01012230467225035,
           0.011085708327662388,
           0.012120590786152642,
           0.01323003018866626,
           0.014417003151916324,
           0.015684355231778344,
           0.017034769877422692,
           0.018470736061702835,
           0.019994514805423524,
           0.021608104844502114,
           0.023313207720042608,
           0.025111192601033953,
           0.02700306117678572,
           0.028989412982167437,
           0.031070411540413276,
           0.03324575172756836,
           0.0355146287771597,
           0.037875709353920546,
           0.04032710513015467,
           0.04286634929833993,
           0.04549037644656698,
           0.04819550621166959,
           0.05097743110530644,
           0.0538312088835412,
           0.05675125979846571,
           0.059731369032148214,
           0.0627646945694924,
           0.06584378071592047,
           0.06896057741109256,
           0.07210646542899744,
           0.07527228749137954,
           0.07844838525292792,
           0.08162464204730399,
           0.08479053121090445,
           0.08793516972945581,
           0.09104737688040992,
           0.09411573747445176,
           0.09712866923157568,
           0.10007449376403103,
           0.10294151057901252,
           0.10571807346198248,
           0.10839266855443044,
           0.11095399340263667,
           0.11339103622325428,
           0.11569315461154842,
           0.11785015290677028,
           0.11985235742829456,
           0.12169068880554149,
           0.12335673064427316,
           0.1248427938016517,
           0.126141975582285,
           0.12724821321668228,
           0.1281563310416308,
           0.1288620808681547,
           0.12936217509623477,
           0.12965431221498816,
           0.12973719441169368,
           0.1296105371015743,
           0.1292750702813618,
           0.1287325317019785,
           0.1279856519479839,
           0.12703813160222108,
           0.12589461076225536,
           0.12456063125925852,
           0.12304259200904422,
           0.121347697997425,
           0.11948390346779712,
           0.11745984993593292,
           0.11528479970555074,
           0.11296856559746568,
           0.11052143763444276,
           0.10795410744317696,
           0.10527759114420274,
           0.10250315149969376,
           0.09964222007874377,
           0.09670632017981032,
           0.09370699122126716,
           0.09065571527408368,
           0.08756384636676012,
           0.0844425431410878,
           0.08130270538163362,
           0.07815491488015645,
           0.07500938103182704,
           0.07187589149261335,
           0.0687637681589437,
           0.06568182866087467,
           0.06263835349202512,
           0.05964105883168928,
           0.05669707505040385,
           0.05381293082779382,
           0.05099454275438293,
           0.04824721023516936,
           0.04557561546496957,
           0.042983828202062625,
           0.04047531503003403,
           0.038052952766137585,
           0.03571904564929309,
           0.03347534592198927,
           0.03132307740658727,
           0.029262961669506156,
           0.02729524636445056,
           0.02541973534930323,
           0.023635820178903904,
           0.02194251258863397,
           0.02033847759967125,
           0.018822066896431868,
           0.017391352149283203,
           0.01604415798023201,
           0.014778094296172129,
           0.013590587742066744,
           0.01247891205541352,
           0.011440217132437005,
           0.010471556645729492,
           0.009569914081623788,
           0.008732227093670138,
           0.007955410095178321,
           0.007236375039398847,
           0.006572050359527862,
           0.005959398062867015,
           0.0053954289934359245,
           0.004877216295453771,
           0.004401907126014446,
           0.003966732679193946,
           0.003569016595556967,
           0.0032061818407770333,
           0.0028757561448423973,
           0.0025753760992096317,
           0.002302790013321446,
           0.0020558596344423274,
           0.001832560835659256,
           0.0016309833765500382,
           0.0014493298393877488,
           0.0012859138411033823,
           0.0011391576176753386,
           0.0010075890732991026,
           0.0008898383817563322,
           0.0007846342220203289,
           0.0006907997243771366,
           0.0006072481973609744,
           0.0005329786997113456,
           0.0004670715154119733,
           0.00040868358381567947,
           0.0003570439309065659,
           0.0003114491420041577,
           0.00027125891071460407,
           0.0002358916937165294,
           0.0002048204960745447,
           0.00017756880722166412,
           0.00015370670356205164,
           0.00013284712981439075,
           0.00011464236776585224,
           0.00009878069800794958,
           0.00008498325749324799,
           0.00007300109335643811,
           0.00006261241137699162,
           0.00005362001570272201
          ],
          [
           0.000020735880684894867,
           0.000024525039413551575,
           0.000028955588060441823,
           0.00003412645530280012,
           0.00004015011152251283,
           0.00004715413502981588,
           0.00005528291415483704,
           0.00006469949011882314,
           0.00007558754464582698,
           0.00008815353510294086,
           0.00010262897854976775,
           0.00011927288441325692,
           0.00013837433357466862,
           0.0001602551994411471,
           0.00018527300407439185,
           0.0002138238996512874,
           0.0002463457624380246,
           0.00028332138307730534,
           0.00032528173332075055,
           0.0003728092854136102,
           0.0004265413561662299,
           0.0004871734433747137,
           0.0005554625177092725,
           0.0006322302285267336,
           0.0007183659773444351,
           0.0008148298080046109,
           0.0009226550579214464,
           0.001042950710356755,
           0.0011769033834665929,
           0.001325778888035763,
           0.001490923282465808,
           0.001673763350798372,
           0.001875806427504366,
           0.002098639491518318,
           0.002343927451685213,
           0.0026134105465678934,
           0.002908900783463354,
           0.0032322773446875064,
           0.0035854808937722444,
           0.00397050672022448,
           0.004389396669018562,
           0.004844229810132762,
           0.005337111814054476,
           0.005870163011479016,
           0.006445505129195007,
           0.007065246709443188,
           0.007731467236717989,
           0.008446200013914497,
           0.009211413848793048,
           0.010028993631692714,
           0.010900719906073495,
           0.011828247554607088,
           0.012813083744677588,
           0.013856565298291733,
           0.01495983567190124,
           0.016123821751288108,
           0.017349210685135428,
           0.018636426997603917,
           0.01998561023517874,
           0.021396593415219753,
           0.022868882553561298,
           0.02440163755482971,
           0.025993654752463204,
           0.02764335138480501,
           0.029348752289271796,
           0.03110747908797544,
           0.03291674212551627,
           0.034773335402532884,
           0.03667363472742562,
           0.038613599283010086,
           0.04058877677542336,
           0.04259431229933412,
           0.04462496101650722,
           0.046675104705019135,
           0.04873877219365581,
           0.05080966365144765,
           0.052881178655829,
           0.054946447915764786,
           0.05699836847860174,
           0.059029642202360955,
           0.06103281722918748,
           0.0630003321516927,
           0.06492456252229829,
           0.06679786931776172,
           0.06861264893653159,
           0.07036138427728439,
           0.0720366964223299,
           0.0736313964307695,
           0.0751385367336257,
           0.07655146161673768,
           0.0778638562773895,
           0.07906979394781956,
           0.08016378059219328,
           0.08114079670426405,
           0.08199633575962335,
           0.08272643890940952,
           0.08332772554104692,
           0.08379741937547572,
           0.08413336981872614,
           0.08433406833818086,
           0.08439865968937706,
           0.08432694787715893,
           0.08411939679446602,
           0.08377712554218705,
           0.08330189849345279,
           0.08269611022459267,
           0.08196276549195838,
           0.08110545448802631,
           0.08012832366094894,
           0.07903604242824179,
           0.0778337661571577,
           0.07652709582061017,
           0.07512203476823151,
           0.07362494307669826,
           0.0720424899615099,
           0.07038160474427521,
           0.06864942687447416,
           0.06685325550360131,
           0.06500049910180147,
           0.06309862559378329,
           0.0611551134712873,
           0.05917740431525372,
           0.057172857131564496,
           0.05514870487092639,
           0.05311201346687084,
           0.05106964368593995,
           0.04902821604246984,
           0.0469940789868461,
           0.04497328053171655,
           0.04297154343642189,
           0.04099424402551962,
           0.03904639467437359,
           0.037132629953392136,
           0.03525719638279343,
           0.03342394571333712,
           0.03163633161414536,
           0.02989740961826423,
           0.028209840149321333,
           0.02657589442920557,
           0.02499746304683455,
           0.0234760669523622,
           0.02201287062911835,
           0.020608697187294828,
           0.019264045118895897,
           0.017979106452375597,
           0.016753786047503647,
           0.015587721776381932,
           0.014480305344322531,
           0.013430703514914197,
           0.012437879515991,
           0.011500614417715964,
           0.01061752828978857,
           0.009787100961743626,
           0.009007692228190848,
           0.008277561359148384,
           0.007594885794235466,
           0.006957778917957483,
           0.006364306831614151,
           0.00581250405507641,
           0.005300388108666,
           0.0048259729415427175,
           0.004387281188102858,
           0.00398235524787369,
           0.003609267197160728,
           0.003266127552182833,
           0.0029510929135966413,
           0.002662372531162261,
           0.0023982338348234127,
           0.0021570069847067727,
           0.0019370884975544336,
           0.0017369440108693378,
           0.0015551102487912168,
           0.0013901962553156337,
           0.0012408839612095225,
           0.0011059281507818984,
           0.0009841558937642794,
           0.0008744655059354381,
           0.0007758250999728454,
           0.0006872707853396272,
           0.0006079045729815955,
           0.0005368920372445077,
           0.0004734597838434246,
           0.00041689276897520874,
           0.00036653151084677847,
           0.0003217692310369126,
           0.0002820489592913773,
           0.0002468606316072683,
           0.00021573820782433455,
           0.0001882568314656694,
           0.00016403005125449312,
           0.00014270712062924038,
           0.00012397038867097845,
           0.00010753279318496648,
           0.00009313546422297024,
           0.00008054544411425555,
           0.00006955352807757673,
           0.00005997222771735341,
           0.00005163385815023432,
           0.00004438874815988723,
           0.00003810357162291331
          ],
          [
           0.000013158323611915158,
           0.000015611162417059948,
           0.000018487403381405177,
           0.000021853630459739992,
           0.000025785721030016344,
           0.00003036994287156885,
           0.000035704148653853965,
           0.00004189907169491773,
           0.000049079726083607405,
           0.00005738691343505669,
           0.00006697883755108737,
           0.00007803282707315825,
           0.0000907471648345594,
           0.00010534302103297623,
           0.00012206648554271636,
           0.0001411906926710053,
           0.00016301802942616074,
           0.00018788241591578985,
           0.00021615164383603175,
           0.00024822975615956165,
           0.00028455944810015684,
           0.0003256244662473245,
           0.0003719519794577928,
           0.00042411489169346094,
           0.0004827340635572835,
           0.0005484804058417225,
           0.0006220768050348758,
           0.0007042998374770877,
           0.0007959812258114506,
           0.0008980089885850365,
           0.0010113282314201317,
           0.0011369415261726576,
           0.0012759088230094877,
           0.0014293468394503215,
           0.0015984278702370625,
           0.0017843779624833725,
           0.0019884744019962033,
           0.002212042459060388,
           0.0024564513453465557,
           0.002723109338051666,
           0.0030134580329388805,
           0.0033289656946039014,
           0.003671119680139803,
           0.004041417921330307,
           0.004441359460586968,
           0.004872434046989098,
           0.005336110810933361,
           0.005833826048922202,
           0.006366970163861734,
           0.006936873820641887,
           0.007544793391719985,
           0.008191895782582543,
           0.00887924274216275,
           0.00960777477838754,
           0.010378294813597803,
           0.011191451728546955,
           0.012047723956628497,
           0.01294740330171324,
           0.013890579163224653,
           0.014877123360465577,
           0.015906675754690073,
           0.016978630871448405,
           0.018092125727462903,
           0.019246029065176393,
           0.020438932194249988,
           0.02166914163244175,
           0.02293467372843497,
           0.02423325143622962,
           0.02556230339477863,
           0.026918965447602708,
           0.028300084715377975,
           0.02970222631016132,
           0.03112168275298678,
           0.03255448612785881,
           0.03399642297429968,
           0.035443051888698326,
           0.03688972377158273,
           0.03833160462444378,
           0.03976370076619564,
           0.041180886306217086,
           0.04257793267895426,
           0.043949540014368425,
           0.04529037009001697,
           0.046595080584548206,
           0.04785836032918139,
           0.049074965234161605,
           0.05023975455117377,
           0.05134772712087594,
           0.05239405724727141,
           0.05337412983765135,
           0.054283574448687,
           0.05511829788571573,
           0.055874515013545886,
           0.056548777452931305,
           0.05713799985720939,
           0.057639483488066905,
           0.05805093683782404,
           0.05837049307742696,
           0.058596724144297854,
           0.05872865132160202,
           0.05876575219995973,
           0.05870796395350286,
           0.05855568290389574,
           0.05830976038788199,
           0.05797149498548831,
           0.05754262120659585,
           0.057025294772628896,
           0.05642207466701019,
           0.055735902162370426,
           0.05497007706367293,
           0.05412823143420867,
           0.053214301095289344,
           0.05223249521027379,
           0.05118726427905213,
           0.05008326688014546,
           0.04892533550409227,
           0.047718441823822025,
           0.04646766174530361,
           0.04517814057506864,
           0.043855058630557185,
           0.042503597604576906,
           0.04112890797735775,
           0.039736077748452586,
           0.03833010273704576,
           0.03691585867315984,
           0.03549807527440256,
           0.03408131247364482,
           0.03266993893296958,
           0.031268112948615846,
           0.029879765821194258,
           0.028508587735275995,
           0.02715801616327313,
           0.02583122678043396,
           0.02453112685128375,
           0.0232603510231493,
           0.02202125943981489,
           0.02081593806801507,
           0.01964620111155735,
           0.018513595372566607,
           0.01741940640653595,
           0.01636466630785064,
           0.015350162954863746,
           0.014376450538698684,
           0.013443861197520212,
           0.01255251757774196,
           0.011702346145790996,
           0.010893091078010874,
           0.010124328562145766,
           0.009395481351298704,
           0.008705833420093265,
           0.008054544582765827,
           0.007440664943864088,
           0.00686314906386389,
           0.006320869734239188,
           0.005812631268937387,
           0.005337182231848868,
           0.00489322753234509,
           0.004479439833249504,
           0.004094470227542693,
           0.003736958151466267,
           0.0034055405125231995,
           0.003098860020935219,
           0.002815572722445785,
           0.002554354738839495,
           0.002313908230171687,
           0.002092966599437677,
           0.0018902989662682092,
           0.0017047139411833134,
           0.0015350627360704644,
           0.0013802416498034985,
           0.001239193970426593,
           0.001110911337060544,
           0.0009944346057574496,
           0.0008888542639536551,
           0.0007933104380354897,
           0.0007069925378922994,
           0.0006291385812392233,
           0.0005590342390383057,
           0.0004960116415555452,
           0.0004394479825624356,
           0.00038876395694222287,
           0.00034342206457183634,
           0.0003029248108616407,
           0.0002668128317821763,
           0.00023466296864494137,
           0.00020608631535555503,
           0.00018072625836022864,
           0.0001582565270849889,
           0.00013837927034093028,
           0.0001208231719602466,
           0.0001053416168458126,
           0.00009171091667647888,
           0.00007972860271414179,
           0.000069211791513869,
           0.00005999562784367994,
           0.000051931807777534655,
           0.000044887183728237186,
           0.000038742452133163424,
           0.000033390923588503715,
           0.000028737374439263703
          ],
          [
           0.000008819884319456028,
           0.000010501948143031913,
           0.000012481146980877931,
           0.00001480533081209496,
           0.0000175291986943736,
           0.00002071513074731077,
           0.00002443409707796836,
           0.000028766647009887716,
           0.00003380398150484152,
           0.00003964911106880496,
           0.00004641810069890768,
           0.00005424140254543782,
           0.0000632652759226206,
           0.00007365329309554045,
           0.0000855879278909815,
           0.00009927222262354902,
           0.00011493152709156092,
           0.0001328153014830671,
           0.00015319897294286183,
           0.00017638583329762032,
           0.00020270896302881336,
           0.0002325331640402036,
           0.0002662568811118933,
           0.00030431408919156215,
           0.0003471761208812908,
           0.0003953534056730564,
           0.0004493970897128882,
           0.0005099005021803931,
           0.0005775004318149093,
           0.000652878174762811,
           0.0007367603128187362,
           0.0008299191793655397,
           0.0009331729689461036,
           0.001047385445493903,
           0.0011734652038908073,
           0.0013123644397673047,
           0.001465077183389534,
           0.001632636955143172,
           0.001816113802598964,
           0.0020166106824518453,
           0.002235259154832544,
           0.0024732143626029456,
           0.002731649274297348,
           0.003011748176323442,
           0.003314699407944721,
           0.003641687341288092,
           0.0039938836182147825,
           0.004372437666203147,
           0.004778466526347908,
           0.005213044038110819,
           0.005677189437330042,
           0.00617185543618421,
           0.006697915866021097,
           0.0072561529760953505,
           0.007847244493084292,
           0.008471750557560796,
           0.00913010066415481,
           0.009822580741793922,
           0.010549320518787262,
           0.011310281324654538,
           0.01210524448595392,
           0.012933800477083555,
           0.01379533898867558,
           0.014689040075743278,
           0.015613866545049948,
           0.016568557736103176,
           0.017551624842681225,
           0.018561347911897383,
           0.019595774645450956,
           0.02065272111301221,
           0.0217297744706687,
           0.022824297758322384,
           0.02393343682879202,
           0.02505412943871058,
           0.02618311650708464,
           0.027316955522026194,
           0.02845203605010956,
           0.02958459727620881,
           0.030710747475060956,
           0.031826485289577724,
           0.032927722665364485,
           0.03401030926664641,
           0.03507005817594612,
           0.03610277265909954,
           0.037104273758680695,
           0.038070428463051136,
           0.03899717818537219,
           0.03988056727729407,
           0.04071677129574179,
           0.04150212473861252,
           0.042233147966254735,
           0.04290657303037794,
           0.0435193681405402,
           0.04406876051054405,
           0.04455225734271014,
           0.04496766472698075,
           0.04531310425382248,
           0.0455870271646856,
           0.04578822589096507,
           0.045915842861601504,
           0.04596937649025442,
           0.045948684284919515,
           0.04585398305546728,
           0.045685846227400115,
           0.04544519830265882,
           0.04513330654010985,
           0.04475176995894441,
           0.044302505797194115,
           0.04378773358451394,
           0.04320995701296496,
           0.04257194381138248,
           0.041876703847796376,
           0.04112746570012243,
           0.04032765194763155,
           0.039480853444643395,
           0.03859080284329372,
           0.03766134763404485,
           0.03669642297115997,
           0.03570002454540482,
           0.03467618175827922,
           0.03362893144106919,
           0.032562292348342244,
           0.03148024063944627,
           0.03038668654328766,
           0.02928545238179568,
           0.028180252105947365,
           0.027074672475857348,
           0.02597215599312889,
           0.024875985670176928,
           0.02378927169758777,
           0.022714940047365063,
           0.02165572302719021,
           0.02061415177911802,
           0.019592550695514327,
           0.01859303370583345,
           0.017617502370201113,
           0.016667645699868772,
           0.015744941610567283,
           0.014850659902675655,
           0.013985866652053534,
           0.013151429887273455,
           0.01234802642291254,
           0.011576149714473632,
           0.01083611859824008,
           0.0101280867789743,
           0.009452052929604202,
           0.008807871269880583,
           0.008195262495157007,
           0.007613824931958314,
           0.007063045803524876,
           0.0065423124959873005,
           0.006050923724055257,
           0.005588100503879178,
           0.0051529968499659925,
           0.004744710122488507,
           0.004362290960916471,
           0.004004752749453975,
           0.003671080569166512,
           0.003360239600823355,
           0.0030711829512717927,
           0.0028028588844774445,
           0.002554217446192546,
           0.0023242164784429823,
           0.0021118270266601066,
           0.0019160381482443956,
           0.0017358611366668996,
           0.0015703331798469036,
           0.001418520475511265,
           0.0012795208295619876,
           0.0011524657661509746,
           0.0010365221802458135,
           0.0009308935649754688,
           0.0008348208470225177,
           0.0007475828638177778,
           0.0006684965163410356,
           0.0005969166309860114,
           0.0005322355632481027,
           0.0004738825749997557,
           0.0004213230158647341,
           0.00037405733774500646,
           0.00033161996992265934,
           0.00029357808040688575,
           0.0002595302473510663,
           0.0002291050624655805,
           0.00020195968642776512,
           0.0001777783743702855,
           0.00015627098763479447,
           0.0001371715061331758,
           0.00012023655387905028,
           0.00010524394855230956,
           0.0000919912843521468,
           0.00008029455588675086,
           0.00006998682944670906,
           0.00006091696671931418,
           0.00005294840482251788,
           0.00004595799547198107,
           0.00003983490513976015,
           0.00003447957721560042,
           0.00002980275643911997,
           0.00002572457522655536
          ],
          [
           0.000007411212833436728,
           0.000008840331172371685,
           0.000010524672599731591,
           0.000012505786628511704,
           0.0000148312357904039,
           0.0000175553345963595,
           0.00002073995780301489,
           0.000024455421115870096,
           0.00002878143704465121,
           0.00003380814809726499,
           0.000039637238844694694,
           0.000046383127601163054,
           0.00005417423753161391,
           0.00006315434591535779,
           0.00007348400905291566,
           0.00008534205889975497,
           0.00009892716594193907,
           0.00011445946109778536,
           0.00013218220753746397,
           0.00015236351126972865,
           0.00017529805716014194,
           0.0002013088547369073,
           0.00023074897572609185,
           0.0002640032627667731,
           0.0003014899862145629,
           0.00034366242338842816,
           0.00039101033208834886,
           0.0004440612877597742,
           0.0005033818513482542,
           0.0005695785327394827,
           0.0006432985127638862,
           0.000725230085128771,
           0.0008161027783907812,
           0.000916687117252554,
           0.001027793982139016,
           0.0011502735262288331,
           0.0012850136099672768,
           0.0014329377145956691,
           0.0015950022984897558,
           0.001772193563109644,
           0.001965523599191781,
           0.002176025888466903,
           0.0024047501416876514,
           0.002652756460084402,
           0.0029211088145345556,
           0.003210867844675295,
           0.0035230829888890066,
           0.0038587839654410337,
           0.0042189716350017805,
           0.004604608285198024,
           0.005016607388620028,
           0.005455822896694944,
           0.005923038142884555,
           0.006418954439598024,
           0.00694417946385437,
           0.007499215536877216,
           0.008084447912291081,
           0.008700133196152263,
           0.009346388029581008,
           0.010023178170963274,
           0.010730308119478268,
           0.011467411424798478,
           0.01223394182916242,
           0.013029165387382635,
           0.01385215370772713,
           0.01470177845179036,
           0.01557670722453656,
           0.016475400976513645,
           0.01739611302891099,
           0.018336889818634437,
           0.019295573445150784,
           0.020269806083390036,
           0.021257036308007,
           0.02225452735360144,
           0.023259367313770953,
           0.02426848125895771,
           0.025278645229612057,
           0.026286502037363157,
           0.027288578783059667,
           0.02828130597711721,
           0.02926103812487426,
           0.030224075618061827,
           0.03116668775335581,
           0.03208513668061584,
           0.03297570206720903,
           0.03383470625102487,
           0.03465853964370179,
           0.03544368613737342,
           0.036186748263166466,
           0.0368844718478167,
           0.0375337699162129,
           0.03813174559245939,
           0.03867571376016683,
           0.03916322125397638,
           0.03959206536881761,
           0.0399603104906848,
           0.0402663026728075,
           0.04050868200348321,
           0.040686392636384655,
           0.040798690380387394,
           0.04084514777356111,
           0.04082565659450813,
           0.04074042779329649,
           0.04058998885340372,
           0.0403751786249402,
           0.040097139697527935,
           0.039757308408203594,
           0.039357402605175416,
           0.038899407311888005,
           0.038385558457286015,
           0.03781832485717308,
           0.03720038864788815,
           0.036534624386983634,
           0.03582407704607355,
           0.03507193912842873,
           0.03428152714815466,
           0.03345625770902722,
           0.03259962341920854,
           0.031715168873310905,
           0.03080646692578036,
           0.029877095469473685,
           0.028930614920873888,
           0.027970546598840337,
           0.027000352167486016,
           0.026023414295862867,
           0.02504301866808838,
           0.024062337457584872,
           0.0230844143585098,
           0.02211215124668093,
           0.02114829652146689,
           0.020195435159674636,
           0.019255980492530276,
           0.01833216769786302,
           0.017426048981533705,
           0.01653949040541615,
           0.015674170303927246,
           0.01483157921725085,
           0.014013021257286784,
           0.013219616811913935,
           0.01245230648445879,
           0.011711856158417154,
           0.010998863072268205,
           0.010313762785842232,
           0.009656836917894072,
           0.009028221534354952,
           0.008427916067961077,
           0.007855792652573463,
           0.0073116057593227484,
           0.006795002026601694,
           0.0063055301817508125,
           0.00584265095892239,
           0.005405746924820919,
           0.004994132131811861,
           0.004607061525934648,
           0.004243740045704957,
           0.003903331355956036,
           0.003584966169349949,
           0.003287750116388081,
           0.003010771132754608,
           0.002753106340464538,
           0.0025138284065641557,
           0.0022920113699238737,
           0.002086735932982666,
           0.0018970942210400472,
           0.0017221940169074574,
           0.0015611624833264024,
           0.0014131493895927806,
           0.001277329862276368,
           0.0011529066827913382,
           0.0010391121569067107,
           0.0009352095830825576,
           0.0008404943478259457,
           0.0007542946771098931,
           0.0006759720733147371,
           0.0006049214672017883,
           0.0005405711141187036,
           0.00048238226303569533,
           0.0004298486261461287,
           0.000382495675679629,
           0.0003398797933088893,
           0.00030158729611791954,
           0.0002672333615793841,
           0.0002364608723855559,
           0.00020893920033075288,
           0.0001843629467708343,
           0.00016245065551855935,
           0.00014294351238651793,
           0.00012560404398681202,
           0.00011021482684721758,
           0.0000965772164255321,
           0.00008451010420283746,
           0.0000738487097228789,
           0.00006444341322243048,
           0.00005615863337123414,
           0.00004887175360978348,
           0.00004247209964083847,
           0.00003685996979332435,
           0.000031945719233905994,
           0.000027648898347357285,
           0.00002389744503948799
          ],
          [
           0.000006315008721043991,
           0.000007546201773619799,
           0.000008999668626413957,
           0.000010711986944006734,
           0.000012725085840383552,
           0.000015086911114236406,
           0.000017852153736744382,
           0.00002108304454045951,
           0.000024850217687441367,
           0.000029233645019692053,
           0.00003432364280506307,
           0.0000402219516779535,
           0.00004704288972758509,
           0.00005491457770001744,
           0.00006398023414713111,
           0.0000743995370728071,
           0.00008635004719055574,
           0.00010002868631971348,
           0.00011565326271101298,
           0.00013346403321493202,
           0.00015372529019786003,
           0.00017672695898544486,
           0.00020278618939081303,
           0.0002322489225870557,
           0.000265491412242164,
           0.0003029216764768699,
           0.00034498085487556334,
           0.00039214444251543497,
           0.0004449233708275588,
           0.0005038649031192151,
           0.000569553310815921,
           0.0006426102949925893,
           0.0007236951166061519,
           0.0008135043980781616,
           0.0009127715585753468,
           0.0010222658455396386,
           0.0011427909258054931,
           0.0012751830010427655,
           0.0014203084143451677,
           0.001579060717567565,
           0.0017523571725510747,
           0.0019411346636706004,
           0.0021463450042121046,
           0.002368949624932142,
           0.0026099136397519963,
           0.0028701992908600656,
           0.0031507587835035373,
           0.0034525265293440994,
           0.003776410826400545,
           0.00412328501316552,
           0.004493978144356757,
           0.004889265245835245,
           0.005309857216322438,
           0.005756390453533435,
           0.006229416292044166,
           0.006729390349443482,
           0.007256661885910624,
           0.007811463290128168,
           0.008393899811190188,
           0.009003939661711752,
           0.009641404621576527,
           0.010305961274418938,
           0.01099711300997221,
           0.01171419292466578,
           0.012456357750198856,
           0.01322258293526312,
           0.014011658998979428,
           0.014822189266041048,
           0.015652589082988375,
           0.016501086602559317,
           0.01736572520871918,
           0.01824436763898389,
           0.019134701843100423,
           0.020034248598226896,
           0.020940370880833444,
           0.0218502849746543,
           0.02276107327265763,
           0.023669698709346824,
           0.024573020738103205,
           0.025467812747099753,
           0.026350780786815152,
           0.027218583462763325,
           0.028067852829033808,
           0.02889521610184948,
           0.02969731799798793,
           0.030470843490791395,
           0.031212540766832445,
           0.03191924415928383,
           0.03258789682994748,
           0.03321557297062202,
           0.03379949929630116,
           0.03433707560752628,
           0.03482589420696868,
           0.03526375796606972,
           0.035648696851017535,
           0.03597898273344312,
           0.03625314232966338,
           0.036469968132891405,
           0.03662852722522857,
           0.0367281678801626,
           0.03676852389134549,
           0.03674951658925776,
           0.03667135453360821,
           0.03653453089557647,
           0.03633981856990906,
           0.03608826308205121,
           0.03578117337958347,
           0.035420110619901475,
           0.0350068750870187,
           0.03454349138930091,
           0.0340321921066643,
           0.03347540007000485,
           0.03287570946731421,
           0.03223586597988391,
           0.03155874615821116,
           0.030847336250596664,
           0.030104710698056782,
           0.02933401050712781,
           0.0285384217074177,
           0.02772115409370138,
           0.026885420442911853,
           0.026034416384964527,
           0.025171301093012258,
           0.0242991789439304,
           0.023421082283552424,
           0.022539955414063124,
           0.021658639902893313,
           0.020779861294075976,
           0.019906217284362617,
           0.019040167407830457,
           0.018184024254485537,
           0.01733994623065798,
           0.016509931852129518,
           0.015695815544936806,
           0.01489926491407986,
           0.014121779426766082,
           0.0133646904447658,
           0.012629162529785125,
           0.01191619593665853,
           0.01122663020163879,
           0.010561148727128622,
           0.00992028425976247,
           0.00930442515592775,
           0.008713822327363011,
           0.008148596759461908,
           0.007608747496164346,
           0.007094159987754476,
           0.0066046147013958025,
           0.0061397958986790496,
           0.005699300489714442,
           0.005282646879250752,
           0.00488928372678908,
           0.0045185985495746345,
           0.004169926104559556,
           0.0038425564928232497,
           0.003535742937368731,
           0.003248709192651456,
           0.0029806565514472437,
           0.0027307704217444636,
           0.002498226453098459,
           0.0022821961983025144,
           0.0020818523022328767,
           0.0018963732152675191,
           0.0017249474337677005,
           0.001566777274663287,
           0.0014210821952498128,
           0.001287101672843824,
           0.001164097661959507,
           0.001051356649206445,
           0.0009481913281378477,
           0.0008539419178633537,
           0.0007679771503804396,
           0.0006896949523215643,
           0.0006185228471792701,
           0.0005539181041055753,
           0.0004953676591112361,
           0.0004423878339583515,
           0.0003945238772759826,
           0.00035134935147343547,
           0.0003124653879102595,
           0.0002774998315389462,
           0.00024610629489738495,
           0.0002179631399199856,
           0.00019277240458491008,
           0.00017025868994574524,
           0.0001501680216268077,
           0.00013226669841275265,
           0.00011634013915023752,
           0.00010219173781533488,
           0.00008964173529644487,
           0.00007852611520690413,
           0.00006869552988233349,
           0.00006001426163740225,
           0.00005235922336129446,
           0.00004561900161909326,
           0.000039692944600307904,
           0.000034490296512965734,
           0.000029929379361229775,
           0.00002593682246258645,
           0.000022446839554386425
          ]
         ]
        }
       ],
       "layout": {
        "height": 700,
        "scene": {
         "camera": {
          "eye": {
           "x": 1.5,
           "y": 1.5,
           "z": 1.3
          }
         },
         "xaxis": {
          "title": {
           "text": "Stock Price"
          }
         },
         "yaxis": {
          "ticktext": [
           "2025-10-01 (1d)",
           "2025-10-02 (2d)",
           "2025-10-03 (3d)",
           "2025-10-06 (6d)",
           "2025-10-07 (7d)",
           "2025-10-08 (8d)"
          ],
          "tickvals": [
           0,
           1,
           2,
           3,
           4,
           5
          ],
          "title": {
           "text": "Expiration"
          }
         },
         "zaxis": {
          "title": {
           "text": "Probability Density"
          }
         }
        },
        "template": {
         "data": {
          "bar": [
           {
            "error_x": {
             "color": "#2a3f5f"
            },
            "error_y": {
             "color": "#2a3f5f"
            },
            "marker": {
             "line": {
              "color": "#E5ECF6",
              "width": 0.5
             },
             "pattern": {
              "fillmode": "overlay",
              "size": 10,
              "solidity": 0.2
             }
            },
            "type": "bar"
           }
          ],
          "barpolar": [
           {
            "marker": {
             "line": {
              "color": "#E5ECF6",
              "width": 0.5
             },
             "pattern": {
              "fillmode": "overlay",
              "size": 10,
              "solidity": 0.2
             }
            },
            "type": "barpolar"
           }
          ],
          "carpet": [
           {
            "aaxis": {
             "endlinecolor": "#2a3f5f",
             "gridcolor": "white",
             "linecolor": "white",
             "minorgridcolor": "white",
             "startlinecolor": "#2a3f5f"
            },
            "baxis": {
             "endlinecolor": "#2a3f5f",
             "gridcolor": "white",
             "linecolor": "white",
             "minorgridcolor": "white",
             "startlinecolor": "#2a3f5f"
            },
            "type": "carpet"
           }
          ],
          "choropleth": [
           {
            "colorbar": {
             "outlinewidth": 0,
             "ticks": ""
            },
            "type": "choropleth"
           }
          ],
          "contour": [
           {
            "colorbar": {
             "outlinewidth": 0,
             "ticks": ""
            },
            "colorscale": [
             [
              0,
              "#0d0887"
             ],
             [
              0.1111111111111111,
              "#46039f"
             ],
             [
              0.2222222222222222,
              "#7201a8"
             ],
             [
              0.3333333333333333,
              "#9c179e"
             ],
             [
              0.4444444444444444,
              "#bd3786"
             ],
             [
              0.5555555555555556,
              "#d8576b"
             ],
             [
              0.6666666666666666,
              "#ed7953"
             ],
             [
              0.7777777777777778,
              "#fb9f3a"
             ],
             [
              0.8888888888888888,
              "#fdca26"
             ],
             [
              1,
              "#f0f921"
             ]
            ],
            "type": "contour"
           }
          ],
          "contourcarpet": [
           {
            "colorbar": {
             "outlinewidth": 0,
             "ticks": ""
            },
            "type": "contourcarpet"
           }
          ],
          "heatmap": [
           {
            "colorbar": {
             "outlinewidth": 0,
             "ticks": ""
            },
            "colorscale": [
             [
              0,
              "#0d0887"
             ],
             [
              0.1111111111111111,
              "#46039f"
             ],
             [
              0.2222222222222222,
              "#7201a8"
             ],
             [
              0.3333333333333333,
              "#9c179e"
             ],
             [
              0.4444444444444444,
              "#bd3786"
             ],
             [
              0.5555555555555556,
              "#d8576b"
             ],
             [
              0.6666666666666666,
              "#ed7953"
             ],
             [
              0.7777777777777778,
              "#fb9f3a"
             ],
             [
              0.8888888888888888,
              "#fdca26"
             ],
             [
              1,
              "#f0f921"
             ]
            ],
            "type": "heatmap"
           }
          ],
          "histogram": [
           {
            "marker": {
             "pattern": {
              "fillmode": "overlay",
              "size": 10,
              "solidity": 0.2
             }
            },
            "type": "histogram"
           }
          ],
          "histogram2d": [
           {
            "colorbar": {
             "outlinewidth": 0,
             "ticks": ""
            },
            "colorscale": [
             [
              0,
              "#0d0887"
             ],
             [
              0.1111111111111111,
              "#46039f"
             ],
             [
              0.2222222222222222,
              "#7201a8"
             ],
             [
              0.3333333333333333,
              "#9c179e"
             ],
             [
              0.4444444444444444,
              "#bd3786"
             ],
             [
              0.5555555555555556,
              "#d8576b"
             ],
             [
              0.6666666666666666,
              "#ed7953"
             ],
             [
              0.7777777777777778,
              "#fb9f3a"
             ],
             [
              0.8888888888888888,
              "#fdca26"
             ],
             [
              1,
              "#f0f921"
             ]
            ],
            "type": "histogram2d"
           }
          ],
          "histogram2dcontour": [
           {
            "colorbar": {
             "outlinewidth": 0,
             "ticks": ""
            },
            "colorscale": [
             [
              0,
              "#0d0887"
             ],
             [
              0.1111111111111111,
              "#46039f"
             ],
             [
              0.2222222222222222,
              "#7201a8"
             ],
             [
              0.3333333333333333,
              "#9c179e"
             ],
             [
              0.4444444444444444,
              "#bd3786"
             ],
             [
              0.5555555555555556,
              "#d8576b"
             ],
             [
              0.6666666666666666,
              "#ed7953"
             ],
             [
              0.7777777777777778,
              "#fb9f3a"
             ],
             [
              0.8888888888888888,
              "#fdca26"
             ],
             [
              1,
              "#f0f921"
             ]
            ],
            "type": "histogram2dcontour"
           }
          ],
          "mesh3d": [
           {
            "colorbar": {
             "outlinewidth": 0,
             "ticks": ""
            },
            "type": "mesh3d"
           }
          ],
          "parcoords": [
           {
            "line": {
             "colorbar": {
              "outlinewidth": 0,
              "ticks": ""
             }
            },
            "type": "parcoords"
           }
          ],
          "pie": [
           {
            "automargin": true,
            "type": "pie"
           }
          ],
          "scatter": [
           {
            "fillpattern": {
             "fillmode": "overlay",
             "size": 10,
             "solidity": 0.2
            },
            "type": "scatter"
           }
          ],
          "scatter3d": [
           {
            "line": {
             "colorbar": {
              "outlinewidth": 0,
              "ticks": ""
             }
            },
            "marker": {
             "colorbar": {
              "outlinewidth": 0,
              "ticks": ""
             }
            },
            "type": "scatter3d"
           }
          ],
          "scattercarpet": [
           {
            "marker": {
             "colorbar": {
              "outlinewidth": 0,
              "ticks": ""
             }
            },
            "type": "scattercarpet"
           }
          ],
          "scattergeo": [
           {
            "marker": {
             "colorbar": {
              "outlinewidth": 0,
              "ticks": ""
             }
            },
            "type": "scattergeo"
           }
          ],
          "scattergl": [
           {
            "marker": {
             "colorbar": {
              "outlinewidth": 0,
              "ticks": ""
             }
            },
            "type": "scattergl"
           }
          ],
          "scattermap": [
           {
            "marker": {
             "colorbar": {
              "outlinewidth": 0,
              "ticks": ""
             }
            },
            "type": "scattermap"
           }
          ],
          "scattermapbox": [
           {
            "marker": {
             "colorbar": {
              "outlinewidth": 0,
              "ticks": ""
             }
            },
            "type": "scattermapbox"
           }
          ],
          "scatterpolar": [
           {
            "marker": {
             "colorbar": {
              "outlinewidth": 0,
              "ticks": ""
             }
            },
            "type": "scatterpolar"
           }
          ],
          "scatterpolargl": [
           {
            "marker": {
             "colorbar": {
              "outlinewidth": 0,
              "ticks": ""
             }
            },
            "type": "scatterpolargl"
           }
          ],
          "scatterternary": [
           {
            "marker": {
             "colorbar": {
              "outlinewidth": 0,
              "ticks": ""
             }
            },
            "type": "scatterternary"
           }
          ],
          "surface": [
           {
            "colorbar": {
             "outlinewidth": 0,
             "ticks": ""
            },
            "colorscale": [
             [
              0,
              "#0d0887"
             ],
             [
              0.1111111111111111,
              "#46039f"
             ],
             [
              0.2222222222222222,
              "#7201a8"
             ],
             [
              0.3333333333333333,
              "#9c179e"
             ],
             [
              0.4444444444444444,
              "#bd3786"
             ],
             [
              0.5555555555555556,
              "#d8576b"
             ],
             [
              0.6666666666666666,
              "#ed7953"
             ],
             [
              0.7777777777777778,
              "#fb9f3a"
             ],
             [
              0.8888888888888888,
              "#fdca26"
             ],
             [
              1,
              "#f0f921"
             ]
            ],
            "type": "surface"
           }
          ],
          "table": [
           {
            "cells": {
             "fill": {
              "color": "#EBF0F8"
             },
             "line": {
              "color": "white"
             }
            },
            "header": {
             "fill": {
              "color": "#C8D4E3"
             },
             "line": {
              "color": "white"
             }
            },
            "type": "table"
           }
          ]
         },
         "layout": {
          "annotationdefaults": {
           "arrowcolor": "#2a3f5f",
           "arrowhead": 0,
           "arrowwidth": 1
          },
          "autotypenumbers": "strict",
          "coloraxis": {
           "colorbar": {
            "outlinewidth": 0,
            "ticks": ""
           }
          },
          "colorscale": {
           "diverging": [
            [
             0,
             "#8e0152"
            ],
            [
             0.1,
             "#c51b7d"
            ],
            [
             0.2,
             "#de77ae"
            ],
            [
             0.3,
             "#f1b6da"
            ],
            [
             0.4,
             "#fde0ef"
            ],
            [
             0.5,
             "#f7f7f7"
            ],
            [
             0.6,
             "#e6f5d0"
            ],
            [
             0.7,
             "#b8e186"
            ],
            [
             0.8,
             "#7fbc41"
            ],
            [
             0.9,
             "#4d9221"
            ],
            [
             1,
             "#276419"
            ]
           ],
           "sequential": [
            [
             0,
             "#0d0887"
            ],
            [
             0.1111111111111111,
             "#46039f"
            ],
            [
             0.2222222222222222,
             "#7201a8"
            ],
            [
             0.3333333333333333,
             "#9c179e"
            ],
            [
             0.4444444444444444,
             "#bd3786"
            ],
            [
             0.5555555555555556,
             "#d8576b"
            ],
            [
             0.6666666666666666,
             "#ed7953"
            ],
            [
             0.7777777777777778,
             "#fb9f3a"
            ],
            [
             0.8888888888888888,
             "#fdca26"
            ],
            [
             1,
             "#f0f921"
            ]
           ],
           "sequentialminus": [
            [
             0,
             "#0d0887"
            ],
            [
             0.1111111111111111,
             "#46039f"
            ],
            [
             0.2222222222222222,
             "#7201a8"
            ],
            [
             0.3333333333333333,
             "#9c179e"
            ],
            [
             0.4444444444444444,
             "#bd3786"
            ],
            [
             0.5555555555555556,
             "#d8576b"
            ],
            [
             0.6666666666666666,
             "#ed7953"
            ],
            [
             0.7777777777777778,
             "#fb9f3a"
            ],
            [
             0.8888888888888888,
             "#fdca26"
            ],
            [
             1,
             "#f0f921"
            ]
           ]
          },
          "colorway": [
           "#636efa",
           "#EF553B",
           "#00cc96",
           "#ab63fa",
           "#FFA15A",
           "#19d3f3",
           "#FF6692",
           "#B6E880",
           "#FF97FF",
           "#FECB52"
          ],
          "font": {
           "color": "#2a3f5f"
          },
          "geo": {
           "bgcolor": "white",
           "lakecolor": "white",
           "landcolor": "#E5ECF6",
           "showlakes": true,
           "showland": true,
           "subunitcolor": "white"
          },
          "hoverlabel": {
           "align": "left"
          },
          "hovermode": "closest",
          "mapbox": {
           "style": "light"
          },
          "paper_bgcolor": "white",
          "plot_bgcolor": "#E5ECF6",
          "polar": {
           "angularaxis": {
            "gridcolor": "white",
            "linecolor": "white",
            "ticks": ""
           },
           "bgcolor": "#E5ECF6",
           "radialaxis": {
            "gridcolor": "white",
            "linecolor": "white",
            "ticks": ""
           }
          },
          "scene": {
           "xaxis": {
            "backgroundcolor": "#E5ECF6",
            "gridcolor": "white",
            "gridwidth": 2,
            "linecolor": "white",
            "showbackground": true,
            "ticks": "",
            "zerolinecolor": "white"
           },
           "yaxis": {
            "backgroundcolor": "#E5ECF6",
            "gridcolor": "white",
            "gridwidth": 2,
            "linecolor": "white",
            "showbackground": true,
            "ticks": "",
            "zerolinecolor": "white"
           },
           "zaxis": {
            "backgroundcolor": "#E5ECF6",
            "gridcolor": "white",
            "gridwidth": 2,
            "linecolor": "white",
            "showbackground": true,
            "ticks": "",
            "zerolinecolor": "white"
           }
          },
          "shapedefaults": {
           "line": {
            "color": "#2a3f5f"
           }
          },
          "ternary": {
           "aaxis": {
            "gridcolor": "white",
            "linecolor": "white",
            "ticks": ""
           },
           "baxis": {
            "gridcolor": "white",
            "linecolor": "white",
            "ticks": ""
           },
           "bgcolor": "#E5ECF6",
           "caxis": {
            "gridcolor": "white",
            "linecolor": "white",
            "ticks": ""
           }
          },
          "title": {
           "x": 0.05
          },
          "xaxis": {
           "automargin": true,
           "gridcolor": "white",
           "linecolor": "white",
           "ticks": "",
           "title": {
            "standoff": 15
           },
           "zerolinecolor": "white",
           "zerolinewidth": 2
          },
          "yaxis": {
           "automargin": true,
           "gridcolor": "white",
           "linecolor": "white",
           "ticks": "",
           "title": {
            "standoff": 15
           },
           "zerolinecolor": "white",
           "zerolinewidth": 2
          }
         }
        },
        "title": {
         "text": "3D Implied Probability Distribution - Full Option Chain looking at SPY"
        }
       }
      }
     },
     "metadata": {},
     "output_type": "display_data"
    }
   ],
   "source": [
    "\n",
    "# Create visualizations\n",
    "print(\"\\nGenerating 3D IPDF surface plot...\")\n",
    "fig_3d = create_3d_ipdf_surface(options_df, current_price)\n",
    "fig_3d.show()\n"
   ]
  },
  {
   "cell_type": "code",
   "execution_count": 72,
   "id": "54113ad9",
   "metadata": {},
   "outputs": [
    {
     "name": "stdout",
     "output_type": "stream",
     "text": [
      "Generating IPDF overlay plot...\n"
     ]
    },
    {
     "name": "stderr",
     "output_type": "stream",
     "text": [
      "<positron-console-cell-72>:3: UserWarning:\n",
      "\n",
      "FigureCanvasAgg is non-interactive, and thus cannot be shown\n",
      "\n"
     ]
    },
    {
     "data": {
      "image/png": "[encoded data removed]",
      "text/plain": [
       "<Figure size 1200x700 with 1 Axes>"
      ]
     },
     "metadata": {},
     "output_type": "display_data"
    }
   ],
   "source": [
    "\n",
    "print(\"Generating IPDF overlay plot...\")\n",
    "fig_overlay = create_ipdf_overlay(options_df, current_price)\n",
    "fig_overlay.show()\n"
   ]
  },
  {
   "cell_type": "code",
   "execution_count": 73,
   "id": "1a318393",
   "metadata": {},
   "outputs": [
    {
     "name": "stdout",
     "output_type": "stream",
     "text": [
      "Generating mode and quartiles plot...\n"
     ]
    },
    {
     "name": "stderr",
     "output_type": "stream",
     "text": [
      "<positron-console-cell-73>:192: RuntimeWarning:\n",
      "\n",
      "invalid value encountered in sqrt\n",
      "\n",
      "<positron-console-cell-73>:3: UserWarning:\n",
      "\n",
      "FigureCanvasAgg is non-interactive, and thus cannot be shown\n",
      "\n"
     ]
    },
    {
     "data": {
      "image/png": "[encoded data removed]",
      "text/plain": [
       "<Figure size 1200x700 with 1 Axes>"
      ]
     },
     "metadata": {},
     "output_type": "display_data"
    }
   ],
   "source": [
    "\n",
    "print(\"Generating mode and quartiles plot...\")\n",
    "fig_quartiles = create_mode_and_quartiles(options_df, current_price)\n",
    "fig_quartiles.show()\n"
   ]
  },
  {
   "cell_type": "code",
   "execution_count": 74,
   "id": "97903706",
   "metadata": {},
   "outputs": [
    {
     "name": "stdout",
     "output_type": "stream",
     "text": [
      "hj SPY\n"
     ]
    }
   ],
   "source": [
    "print(\"hj\",ticker)\n"
   ]
  }
 ],
 "metadata": {
  "kernelspec": {
   "display_name": "Python 3 (ipykernel)",
   "language": "python",
   "name": "python3",
   "path": "C:\\Users\\pietr\\AppData\\Roaming\\Python\\share\\jupyter\\kernels\\python3"
  },
  "language_info": {
   "name": "python"
  }
 },
 "nbformat": 4,
 "nbformat_minor": 5
}
